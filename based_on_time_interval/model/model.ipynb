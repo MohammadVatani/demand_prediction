{
 "cells": [
  {
   "cell_type": "markdown",
   "metadata": {
    "id": "KcBNv2YLohK9"
   },
   "source": [
    "# Import modules"
   ]
  },
  {
   "cell_type": "code",
   "execution_count": 1,
   "metadata": {
    "id": "YyX5k-wBqY14"
   },
   "outputs": [
    {
     "name": "stderr",
     "output_type": "stream",
     "text": [
      "/opt/conda/lib/python3.8/site-packages/xgboost/compat.py:31: FutureWarning: pandas.Int64Index is deprecated and will be removed from pandas in a future version. Use pandas.Index with the appropriate dtype instead.\n",
      "  from pandas import MultiIndex, Int64Index\n"
     ]
    }
   ],
   "source": [
    "import datetime\n",
    "import matplotlib.pyplot as plt\n",
    "import numpy as np\n",
    "import pandas as pd\n",
    "import time\n",
    "import warnings\n",
    "\n",
    "from datetime import date\n",
    "from itertools import product\n",
    "from sklearn.metrics import accuracy_score\n",
    "from sklearn.model_selection import GridSearchCV\n",
    "from sklearn.preprocessing import LabelEncoder\n",
    "from sklearn.linear_model import LinearRegression\n",
    "from sklearn.metrics import mean_absolute_percentage_error\n",
    "from sklearn.metrics import mean_absolute_error\n",
    "from sklearn.metrics import mean_squared_error\n",
    "from sklearn.model_selection import train_test_split\n",
    "from xgboost import XGBRegressor\n",
    "\n",
    "warnings.simplefilter('ignore')"
   ]
  },
  {
   "cell_type": "markdown",
   "metadata": {
    "id": "qwqNfi6NQV_v"
   },
   "source": [
    "# Config"
   ]
  },
  {
   "cell_type": "code",
   "execution_count": 2,
   "metadata": {
    "id": "VyDYzlYcQU2M"
   },
   "outputs": [],
   "source": [
    "DATA_FILE_PATHS = '/workspace/rahnemacollege/Project/Git/demand-prediction/data/input/'\n",
    "\n",
    "start_date = '2023-01-01'\n",
    "start_date_test = '2023-04-01'\n",
    "end_date = '2023-05-01'\n",
    "\n",
    "FEATURE_LIST = [\n",
    "    'PULocationID',\n",
    "    'PU_day_of_month',\n",
    "    'PU_day_of_week',\n",
    "    'last_day_demand',\n",
    "    'last_week_demand'\n",
    "]\n",
    "\n",
    "TARGET = 'count'\n",
    "VALIDATION_SPLIT_RATIO = 0.2\n",
    "\n",
    "LR_OUTPUT_PATH = '/workspace/rahnemacollege/Project/Git/demand-prediction/data/output/lr_result.parquet'\n",
    "XGB_OUTPUT_PATH = '/workspace/rahnemacollege/Project/Git/demand-prediction/data/output/XGB_result.parquet'"
   ]
  },
  {
   "cell_type": "markdown",
   "metadata": {
    "pycharm": {
     "name": "#%% md\n"
    },
    "tags": []
   },
   "source": [
    "# Load data"
   ]
  },
  {
   "cell_type": "code",
   "execution_count": 3,
   "metadata": {
    "collapsed": false,
    "jupyter": {
     "outputs_hidden": false
    },
    "pycharm": {
     "name": "#%%\n"
    }
   },
   "outputs": [
    {
     "name": "stdout",
     "output_type": "stream",
     "text": [
      "(12672629, 22)\n"
     ]
    },
    {
     "data": {
      "text/html": [
       "<div>\n",
       "<style scoped>\n",
       "    .dataframe tbody tr th:only-of-type {\n",
       "        vertical-align: middle;\n",
       "    }\n",
       "\n",
       "    .dataframe tbody tr th {\n",
       "        vertical-align: top;\n",
       "    }\n",
       "\n",
       "    .dataframe thead th {\n",
       "        text-align: right;\n",
       "    }\n",
       "</style>\n",
       "<table border=\"1\" class=\"dataframe\">\n",
       "  <thead>\n",
       "    <tr style=\"text-align: right;\">\n",
       "      <th></th>\n",
       "      <th>VendorID</th>\n",
       "      <th>tpep_pickup_datetime</th>\n",
       "      <th>tpep_dropoff_datetime</th>\n",
       "      <th>passenger_count</th>\n",
       "      <th>trip_distance</th>\n",
       "      <th>RatecodeID</th>\n",
       "      <th>store_and_fwd_flag</th>\n",
       "      <th>PULocationID</th>\n",
       "      <th>DOLocationID</th>\n",
       "      <th>payment_type</th>\n",
       "      <th>...</th>\n",
       "      <th>mta_tax</th>\n",
       "      <th>tip_amount</th>\n",
       "      <th>tolls_amount</th>\n",
       "      <th>improvement_surcharge</th>\n",
       "      <th>total_amount</th>\n",
       "      <th>congestion_surcharge</th>\n",
       "      <th>airport_fee</th>\n",
       "      <th>date</th>\n",
       "      <th>time_interval</th>\n",
       "      <th>time_interval_number</th>\n",
       "    </tr>\n",
       "  </thead>\n",
       "  <tbody>\n",
       "    <tr>\n",
       "      <th>0</th>\n",
       "      <td>2</td>\n",
       "      <td>2023-01-01 00:32:10</td>\n",
       "      <td>2023-01-01 00:40:36</td>\n",
       "      <td>1.0</td>\n",
       "      <td>0.97</td>\n",
       "      <td>1.0</td>\n",
       "      <td>N</td>\n",
       "      <td>161</td>\n",
       "      <td>141</td>\n",
       "      <td>2</td>\n",
       "      <td>...</td>\n",
       "      <td>0.5</td>\n",
       "      <td>0.00</td>\n",
       "      <td>0.00</td>\n",
       "      <td>1.0</td>\n",
       "      <td>14.30</td>\n",
       "      <td>2.5</td>\n",
       "      <td>0.00</td>\n",
       "      <td>2023-01-01</td>\n",
       "      <td>00:00:00 - 03:00:00</td>\n",
       "      <td>1</td>\n",
       "    </tr>\n",
       "    <tr>\n",
       "      <th>1</th>\n",
       "      <td>1</td>\n",
       "      <td>2023-01-01 16:18:55</td>\n",
       "      <td>2023-01-01 16:26:09</td>\n",
       "      <td>3.0</td>\n",
       "      <td>0.00</td>\n",
       "      <td>1.0</td>\n",
       "      <td>N</td>\n",
       "      <td>107</td>\n",
       "      <td>90</td>\n",
       "      <td>1</td>\n",
       "      <td>...</td>\n",
       "      <td>0.5</td>\n",
       "      <td>2.10</td>\n",
       "      <td>0.00</td>\n",
       "      <td>1.0</td>\n",
       "      <td>12.60</td>\n",
       "      <td>2.5</td>\n",
       "      <td>0.00</td>\n",
       "      <td>2023-01-01</td>\n",
       "      <td>15:00:00 - 18:00:00</td>\n",
       "      <td>6</td>\n",
       "    </tr>\n",
       "    <tr>\n",
       "      <th>2</th>\n",
       "      <td>2</td>\n",
       "      <td>2023-01-01 16:59:08</td>\n",
       "      <td>2023-01-01 17:41:59</td>\n",
       "      <td>1.0</td>\n",
       "      <td>19.82</td>\n",
       "      <td>2.0</td>\n",
       "      <td>N</td>\n",
       "      <td>132</td>\n",
       "      <td>238</td>\n",
       "      <td>1</td>\n",
       "      <td>...</td>\n",
       "      <td>0.5</td>\n",
       "      <td>16.36</td>\n",
       "      <td>6.55</td>\n",
       "      <td>1.0</td>\n",
       "      <td>98.16</td>\n",
       "      <td>2.5</td>\n",
       "      <td>1.25</td>\n",
       "      <td>2023-01-01</td>\n",
       "      <td>15:00:00 - 18:00:00</td>\n",
       "      <td>6</td>\n",
       "    </tr>\n",
       "    <tr>\n",
       "      <th>3</th>\n",
       "      <td>2</td>\n",
       "      <td>2023-01-01 16:29:59</td>\n",
       "      <td>2023-01-01 16:59:01</td>\n",
       "      <td>1.0</td>\n",
       "      <td>9.36</td>\n",
       "      <td>1.0</td>\n",
       "      <td>N</td>\n",
       "      <td>138</td>\n",
       "      <td>68</td>\n",
       "      <td>1</td>\n",
       "      <td>...</td>\n",
       "      <td>0.5</td>\n",
       "      <td>11.80</td>\n",
       "      <td>6.55</td>\n",
       "      <td>1.0</td>\n",
       "      <td>70.80</td>\n",
       "      <td>2.5</td>\n",
       "      <td>1.25</td>\n",
       "      <td>2023-01-01</td>\n",
       "      <td>15:00:00 - 18:00:00</td>\n",
       "      <td>6</td>\n",
       "    </tr>\n",
       "    <tr>\n",
       "      <th>4</th>\n",
       "      <td>2</td>\n",
       "      <td>2023-01-01 16:35:44</td>\n",
       "      <td>2023-01-01 16:53:56</td>\n",
       "      <td>2.0</td>\n",
       "      <td>3.18</td>\n",
       "      <td>1.0</td>\n",
       "      <td>N</td>\n",
       "      <td>114</td>\n",
       "      <td>162</td>\n",
       "      <td>1</td>\n",
       "      <td>...</td>\n",
       "      <td>0.5</td>\n",
       "      <td>4.76</td>\n",
       "      <td>0.00</td>\n",
       "      <td>1.0</td>\n",
       "      <td>28.56</td>\n",
       "      <td>2.5</td>\n",
       "      <td>0.00</td>\n",
       "      <td>2023-01-01</td>\n",
       "      <td>15:00:00 - 18:00:00</td>\n",
       "      <td>6</td>\n",
       "    </tr>\n",
       "  </tbody>\n",
       "</table>\n",
       "<p>5 rows × 22 columns</p>\n",
       "</div>"
      ],
      "text/plain": [
       "   VendorID tpep_pickup_datetime tpep_dropoff_datetime  passenger_count  \\\n",
       "0         2  2023-01-01 00:32:10   2023-01-01 00:40:36              1.0   \n",
       "1         1  2023-01-01 16:18:55   2023-01-01 16:26:09              3.0   \n",
       "2         2  2023-01-01 16:59:08   2023-01-01 17:41:59              1.0   \n",
       "3         2  2023-01-01 16:29:59   2023-01-01 16:59:01              1.0   \n",
       "4         2  2023-01-01 16:35:44   2023-01-01 16:53:56              2.0   \n",
       "\n",
       "   trip_distance  RatecodeID store_and_fwd_flag  PULocationID  DOLocationID  \\\n",
       "0           0.97         1.0                  N           161           141   \n",
       "1           0.00         1.0                  N           107            90   \n",
       "2          19.82         2.0                  N           132           238   \n",
       "3           9.36         1.0                  N           138            68   \n",
       "4           3.18         1.0                  N           114           162   \n",
       "\n",
       "   payment_type  ...  mta_tax  tip_amount  tolls_amount  \\\n",
       "0             2  ...      0.5        0.00          0.00   \n",
       "1             1  ...      0.5        2.10          0.00   \n",
       "2             1  ...      0.5       16.36          6.55   \n",
       "3             1  ...      0.5       11.80          6.55   \n",
       "4             1  ...      0.5        4.76          0.00   \n",
       "\n",
       "   improvement_surcharge  total_amount  congestion_surcharge  airport_fee  \\\n",
       "0                    1.0         14.30                   2.5         0.00   \n",
       "1                    1.0         12.60                   2.5         0.00   \n",
       "2                    1.0         98.16                   2.5         1.25   \n",
       "3                    1.0         70.80                   2.5         1.25   \n",
       "4                    1.0         28.56                   2.5         0.00   \n",
       "\n",
       "         date        time_interval time_interval_number  \n",
       "0  2023-01-01  00:00:00 - 03:00:00                    1  \n",
       "1  2023-01-01  15:00:00 - 18:00:00                    6  \n",
       "2  2023-01-01  15:00:00 - 18:00:00                    6  \n",
       "3  2023-01-01  15:00:00 - 18:00:00                    6  \n",
       "4  2023-01-01  15:00:00 - 18:00:00                    6  \n",
       "\n",
       "[5 rows x 22 columns]"
      ]
     },
     "execution_count": 3,
     "metadata": {},
     "output_type": "execute_result"
    }
   ],
   "source": [
    "def load_data(file_paths, start_date=None, end_date=None):\n",
    "    df = pd.read_parquet(file_paths)\n",
    "    df['date'] = df['tpep_pickup_datetime'].dt.date.astype(str)\n",
    "\n",
    "    if start_date:\n",
    "        if end_date:\n",
    "            df = df[(df['date'] >= start_date) & (\n",
    "                df['date'] < end_date)]\n",
    "        else:\n",
    "            df = df[df['date'] > start_date].reset_index(drop=True)\n",
    "    # Sort the DataFrame based on the 'tpep_pickup_datetime' column in ascending order\n",
    "    df = df.sort_values(by='date')\n",
    "    df = df.reset_index(drop=True)\n",
    "\n",
    "    # Calculate the start time of each interval\n",
    "    df['interval_start'] = df['tpep_pickup_datetime'].dt.floor('3H')\n",
    "\n",
    "    # Calculate the end time of each interval\n",
    "    df['interval_end'] = df['interval_start'] + pd.Timedelta(hours=3)\n",
    "\n",
    "    # Create a new column with the time interval in the desired format\n",
    "    df['time_interval'] = df['interval_start'].dt.strftime(\n",
    "        '%H:%M:%S') + ' - ' + df['interval_end'].dt.strftime('%H:%M:%S')\n",
    "\n",
    "    # Drop 'interval_start' and 'interval_end' columns\n",
    "    df.drop(columns=['interval_start', 'interval_end'], inplace=True)\n",
    "\n",
    "    # Create bins for interval numbers from 1 to 8\n",
    "    df['time_interval_number'] = pd.cut(\n",
    "        df['tpep_pickup_datetime'].dt.hour, bins=8, labels=range(1, 9), right=False)\n",
    "\n",
    "    return df\n",
    "\n",
    "\n",
    "rides_df = load_data(DATA_FILE_PATHS, start_date, end_date)\n",
    "print(rides_df.shape)\n",
    "rides_df.head()"
   ]
  },
  {
   "cell_type": "markdown",
   "metadata": {
    "tags": []
   },
   "source": [
    "## Labeling"
   ]
  },
  {
   "cell_type": "markdown",
   "metadata": {
    "pycharm": {
     "name": "#%% md\n"
    },
    "tags": []
   },
   "source": [
    "### Aggregate data and labeling"
   ]
  },
  {
   "cell_type": "code",
   "execution_count": 4,
   "metadata": {},
   "outputs": [],
   "source": [
    "def labeling_by_interval(rides_df: pd.DataFrame):\n",
    "    aggregated_df = rides_df.groupby(\n",
    "        ['date', 'time_interval_number', 'PULocationID']).size().reset_index(name='count')\n",
    "    unique_dates = rides_df['date'].unique()\n",
    "    unique_interval = rides_df['time_interval_number'].unique()\n",
    "    unique_pu_location_ids = rides_df['PULocationID'].unique()\n",
    "    all_combinations = list(\n",
    "        product(unique_dates, unique_interval, unique_pu_location_ids))\n",
    "    combinations_df = pd.DataFrame(all_combinations, columns=[\n",
    "                                   'date', 'time_interval_number', 'PULocationID'])\n",
    "    label_df = aggregated_df.merge(combinations_df, how='right', on=[\n",
    "                                   'date', 'time_interval_number', 'PULocationID']).fillna(0)\n",
    "    # Sort based on two columns: 'time_interval_number' (ascending) and 'date' (ascending)\n",
    "    label_df = label_df.sort_values(\n",
    "        by=['date', 'time_interval_number'], ascending=[True, True])\n",
    "    return label_df"
   ]
  },
  {
   "cell_type": "code",
   "execution_count": 5,
   "metadata": {},
   "outputs": [
    {
     "name": "stdout",
     "output_type": "stream",
     "text": [
      "(251520, 4)\n"
     ]
    },
    {
     "data": {
      "text/html": [
       "<div>\n",
       "<style scoped>\n",
       "    .dataframe tbody tr th:only-of-type {\n",
       "        vertical-align: middle;\n",
       "    }\n",
       "\n",
       "    .dataframe tbody tr th {\n",
       "        vertical-align: top;\n",
       "    }\n",
       "\n",
       "    .dataframe thead th {\n",
       "        text-align: right;\n",
       "    }\n",
       "</style>\n",
       "<table border=\"1\" class=\"dataframe\">\n",
       "  <thead>\n",
       "    <tr style=\"text-align: right;\">\n",
       "      <th></th>\n",
       "      <th>date</th>\n",
       "      <th>time_interval_number</th>\n",
       "      <th>PULocationID</th>\n",
       "      <th>count</th>\n",
       "    </tr>\n",
       "  </thead>\n",
       "  <tbody>\n",
       "    <tr>\n",
       "      <th>0</th>\n",
       "      <td>2023-01-01</td>\n",
       "      <td>1</td>\n",
       "      <td>161</td>\n",
       "      <td>504</td>\n",
       "    </tr>\n",
       "    <tr>\n",
       "      <th>1</th>\n",
       "      <td>2023-01-01</td>\n",
       "      <td>1</td>\n",
       "      <td>107</td>\n",
       "      <td>604</td>\n",
       "    </tr>\n",
       "    <tr>\n",
       "      <th>2</th>\n",
       "      <td>2023-01-01</td>\n",
       "      <td>1</td>\n",
       "      <td>132</td>\n",
       "      <td>389</td>\n",
       "    </tr>\n",
       "    <tr>\n",
       "      <th>3</th>\n",
       "      <td>2023-01-01</td>\n",
       "      <td>1</td>\n",
       "      <td>138</td>\n",
       "      <td>42</td>\n",
       "    </tr>\n",
       "    <tr>\n",
       "      <th>4</th>\n",
       "      <td>2023-01-01</td>\n",
       "      <td>1</td>\n",
       "      <td>114</td>\n",
       "      <td>205</td>\n",
       "    </tr>\n",
       "  </tbody>\n",
       "</table>\n",
       "</div>"
      ],
      "text/plain": [
       "         date  time_interval_number  PULocationID  count\n",
       "0  2023-01-01                     1           161    504\n",
       "1  2023-01-01                     1           107    604\n",
       "2  2023-01-01                     1           132    389\n",
       "3  2023-01-01                     1           138     42\n",
       "4  2023-01-01                     1           114    205"
      ]
     },
     "execution_count": 5,
     "metadata": {},
     "output_type": "execute_result"
    }
   ],
   "source": [
    "labels_time_df = labeling_by_interval(rides_df)\n",
    "print(labels_time_df.shape)\n",
    "labels_time_df.head()"
   ]
  },
  {
   "cell_type": "markdown",
   "metadata": {
    "tags": []
   },
   "source": [
    "## Feature Selection"
   ]
  },
  {
   "cell_type": "markdown",
   "metadata": {},
   "source": [
    "### Add calender and previous demands features"
   ]
  },
  {
   "cell_type": "code",
   "execution_count": 6,
   "metadata": {},
   "outputs": [
    {
     "name": "stdout",
     "output_type": "stream",
     "text": [
      "(251520, 9)\n"
     ]
    },
    {
     "data": {
      "text/html": [
       "<div>\n",
       "<style scoped>\n",
       "    .dataframe tbody tr th:only-of-type {\n",
       "        vertical-align: middle;\n",
       "    }\n",
       "\n",
       "    .dataframe tbody tr th {\n",
       "        vertical-align: top;\n",
       "    }\n",
       "\n",
       "    .dataframe thead th {\n",
       "        text-align: right;\n",
       "    }\n",
       "</style>\n",
       "<table border=\"1\" class=\"dataframe\">\n",
       "  <thead>\n",
       "    <tr style=\"text-align: right;\">\n",
       "      <th></th>\n",
       "      <th>date</th>\n",
       "      <th>time_interval_number</th>\n",
       "      <th>PULocationID</th>\n",
       "      <th>count</th>\n",
       "      <th>PU_day_of_month</th>\n",
       "      <th>PU_day_of_week</th>\n",
       "      <th>last_interval_demand</th>\n",
       "      <th>last_day_demand</th>\n",
       "      <th>last_week_demand</th>\n",
       "    </tr>\n",
       "  </thead>\n",
       "  <tbody>\n",
       "    <tr>\n",
       "      <th>58</th>\n",
       "      <td>2023-01-01</td>\n",
       "      <td>1</td>\n",
       "      <td>1</td>\n",
       "      <td>1</td>\n",
       "      <td>1</td>\n",
       "      <td>6</td>\n",
       "      <td>NaN</td>\n",
       "      <td>NaN</td>\n",
       "      <td>NaN</td>\n",
       "    </tr>\n",
       "    <tr>\n",
       "      <th>1368</th>\n",
       "      <td>2023-01-01</td>\n",
       "      <td>2</td>\n",
       "      <td>1</td>\n",
       "      <td>1</td>\n",
       "      <td>1</td>\n",
       "      <td>6</td>\n",
       "      <td>0.0</td>\n",
       "      <td>NaN</td>\n",
       "      <td>NaN</td>\n",
       "    </tr>\n",
       "    <tr>\n",
       "      <th>1630</th>\n",
       "      <td>2023-01-01</td>\n",
       "      <td>3</td>\n",
       "      <td>1</td>\n",
       "      <td>1</td>\n",
       "      <td>1</td>\n",
       "      <td>6</td>\n",
       "      <td>1.0</td>\n",
       "      <td>NaN</td>\n",
       "      <td>NaN</td>\n",
       "    </tr>\n",
       "    <tr>\n",
       "      <th>1892</th>\n",
       "      <td>2023-01-01</td>\n",
       "      <td>4</td>\n",
       "      <td>1</td>\n",
       "      <td>1</td>\n",
       "      <td>1</td>\n",
       "      <td>6</td>\n",
       "      <td>1.0</td>\n",
       "      <td>NaN</td>\n",
       "      <td>NaN</td>\n",
       "    </tr>\n",
       "    <tr>\n",
       "      <th>844</th>\n",
       "      <td>2023-01-01</td>\n",
       "      <td>5</td>\n",
       "      <td>1</td>\n",
       "      <td>13</td>\n",
       "      <td>1</td>\n",
       "      <td>6</td>\n",
       "      <td>1.0</td>\n",
       "      <td>NaN</td>\n",
       "      <td>NaN</td>\n",
       "    </tr>\n",
       "  </tbody>\n",
       "</table>\n",
       "</div>"
      ],
      "text/plain": [
       "           date  time_interval_number  PULocationID  count  PU_day_of_month  \\\n",
       "58   2023-01-01                     1             1      1                1   \n",
       "1368 2023-01-01                     2             1      1                1   \n",
       "1630 2023-01-01                     3             1      1                1   \n",
       "1892 2023-01-01                     4             1      1                1   \n",
       "844  2023-01-01                     5             1     13                1   \n",
       "\n",
       "      PU_day_of_week  last_interval_demand  last_day_demand  last_week_demand  \n",
       "58                 6                   NaN              NaN               NaN  \n",
       "1368               6                   0.0              NaN               NaN  \n",
       "1630               6                   1.0              NaN               NaN  \n",
       "1892               6                   1.0              NaN               NaN  \n",
       "844                6                   1.0              NaN               NaN  "
      ]
     },
     "execution_count": 6,
     "metadata": {},
     "output_type": "execute_result"
    }
   ],
   "source": [
    "def adding_feature(rides_df: pd.DataFrame):\n",
    "    rides_df['date'] = rides_df['date'].astype('datetime64[ns]')\n",
    "    rides_df['PU_day_of_month'] = rides_df['date'].dt.day.astype(np.uint8)\n",
    "    rides_df['PU_day_of_week'] = rides_df['date'].dt.weekday.astype(np.uint8)\n",
    "    rides_df = rides_df.sort_values(\n",
    "        ['PULocationID', 'date', 'time_interval_number'])\n",
    "    rides_df['last_interval_demand'] = rides_df.groupby(['PULocationID'])[\n",
    "        'count'].shift(1)\n",
    "    rides_df['last_day_demand'] = rides_df.groupby(['PULocationID'])[\n",
    "        'count'].shift(8)\n",
    "    rides_df['last_week_demand'] = rides_df.groupby(['PULocationID'])[\n",
    "        'count'].shift(56)\n",
    "\n",
    "    # To handle the issue with MAPE and zero values in the count column, we replace zeros\n",
    "    # with the one value. This prevents division by zero and ensures\n",
    "    # accurate evaluation of the metric.\n",
    "    rides_df.loc[rides_df['count']\n",
    "                 == 0, 'count'] = 1\n",
    "\n",
    "    return rides_df\n",
    "\n",
    "\n",
    "labels_time_df_feat = adding_feature(labels_time_df)\n",
    "print(labels_time_df_feat.shape)\n",
    "labels_time_df_feat.head()"
   ]
  },
  {
   "cell_type": "code",
   "execution_count": 7,
   "metadata": {},
   "outputs": [],
   "source": [
    "rides_df = labels_time_df_feat"
   ]
  },
  {
   "cell_type": "markdown",
   "metadata": {
    "id": "tvzGyWPQEM2-"
   },
   "source": [
    "## Dropping some samples"
   ]
  },
  {
   "cell_type": "code",
   "execution_count": 8,
   "metadata": {
    "colab": {
     "base_uri": "https://localhost:8080/",
     "height": 221
    },
    "id": "VKDnrg9t6u84",
    "outputId": "1be04b7c-4beb-4682-c1b9-82dd41db53b3"
   },
   "outputs": [],
   "source": [
    "rides_df = rides_df.dropna()"
   ]
  },
  {
   "cell_type": "markdown",
   "metadata": {
    "id": "7wZpKFTMS7Qb"
   },
   "source": [
    "## Train and Test split"
   ]
  },
  {
   "cell_type": "code",
   "execution_count": 9,
   "metadata": {
    "colab": {
     "base_uri": "https://localhost:8080/",
     "height": 269
    },
    "id": "R-OC1_1yS-mF",
    "outputId": "5c79c970-8719-4d0d-c154-65ecbf4bdbc7"
   },
   "outputs": [],
   "source": [
    "def train_and_test_split(data, split_date):\n",
    "    train_data = data[\n",
    "        rides_df['date'] < split_date\n",
    "    ]\n",
    "    test_data = data[\n",
    "        rides_df['date'] >= split_date\n",
    "    ]\n",
    "\n",
    "    train_data.set_index('date', inplace=True)\n",
    "    test_data.set_index('date', inplace=True)\n",
    "\n",
    "    return train_data, test_data"
   ]
  },
  {
   "cell_type": "code",
   "execution_count": 10,
   "metadata": {},
   "outputs": [],
   "source": [
    "train_df, test_df = train_and_test_split(\n",
    "    rides_df,\n",
    "    start_date_test\n",
    ")"
   ]
  },
  {
   "cell_type": "code",
   "execution_count": 11,
   "metadata": {},
   "outputs": [
    {
     "name": "stdout",
     "output_type": "stream",
     "text": [
      "(173968, 8)\n"
     ]
    },
    {
     "data": {
      "text/html": [
       "<div>\n",
       "<style scoped>\n",
       "    .dataframe tbody tr th:only-of-type {\n",
       "        vertical-align: middle;\n",
       "    }\n",
       "\n",
       "    .dataframe tbody tr th {\n",
       "        vertical-align: top;\n",
       "    }\n",
       "\n",
       "    .dataframe thead th {\n",
       "        text-align: right;\n",
       "    }\n",
       "</style>\n",
       "<table border=\"1\" class=\"dataframe\">\n",
       "  <thead>\n",
       "    <tr style=\"text-align: right;\">\n",
       "      <th></th>\n",
       "      <th>time_interval_number</th>\n",
       "      <th>PULocationID</th>\n",
       "      <th>count</th>\n",
       "      <th>PU_day_of_month</th>\n",
       "      <th>PU_day_of_week</th>\n",
       "      <th>last_interval_demand</th>\n",
       "      <th>last_day_demand</th>\n",
       "      <th>last_week_demand</th>\n",
       "    </tr>\n",
       "    <tr>\n",
       "      <th>date</th>\n",
       "      <th></th>\n",
       "      <th></th>\n",
       "      <th></th>\n",
       "      <th></th>\n",
       "      <th></th>\n",
       "      <th></th>\n",
       "      <th></th>\n",
       "      <th></th>\n",
       "    </tr>\n",
       "  </thead>\n",
       "  <tbody>\n",
       "    <tr>\n",
       "      <th>2023-01-08</th>\n",
       "      <td>1</td>\n",
       "      <td>1</td>\n",
       "      <td>1</td>\n",
       "      <td>8</td>\n",
       "      <td>6</td>\n",
       "      <td>0.0</td>\n",
       "      <td>0.0</td>\n",
       "      <td>0.0</td>\n",
       "    </tr>\n",
       "    <tr>\n",
       "      <th>2023-01-08</th>\n",
       "      <td>2</td>\n",
       "      <td>1</td>\n",
       "      <td>1</td>\n",
       "      <td>8</td>\n",
       "      <td>6</td>\n",
       "      <td>0.0</td>\n",
       "      <td>0.0</td>\n",
       "      <td>1.0</td>\n",
       "    </tr>\n",
       "    <tr>\n",
       "      <th>2023-01-08</th>\n",
       "      <td>3</td>\n",
       "      <td>1</td>\n",
       "      <td>3</td>\n",
       "      <td>8</td>\n",
       "      <td>6</td>\n",
       "      <td>0.0</td>\n",
       "      <td>1.0</td>\n",
       "      <td>1.0</td>\n",
       "    </tr>\n",
       "    <tr>\n",
       "      <th>2023-01-08</th>\n",
       "      <td>4</td>\n",
       "      <td>1</td>\n",
       "      <td>1</td>\n",
       "      <td>8</td>\n",
       "      <td>6</td>\n",
       "      <td>3.0</td>\n",
       "      <td>1.0</td>\n",
       "      <td>1.0</td>\n",
       "    </tr>\n",
       "    <tr>\n",
       "      <th>2023-01-08</th>\n",
       "      <td>5</td>\n",
       "      <td>1</td>\n",
       "      <td>2</td>\n",
       "      <td>8</td>\n",
       "      <td>6</td>\n",
       "      <td>1.0</td>\n",
       "      <td>1.0</td>\n",
       "      <td>13.0</td>\n",
       "    </tr>\n",
       "  </tbody>\n",
       "</table>\n",
       "</div>"
      ],
      "text/plain": [
       "            time_interval_number  PULocationID  count  PU_day_of_month  \\\n",
       "date                                                                     \n",
       "2023-01-08                     1             1      1                8   \n",
       "2023-01-08                     2             1      1                8   \n",
       "2023-01-08                     3             1      3                8   \n",
       "2023-01-08                     4             1      1                8   \n",
       "2023-01-08                     5             1      2                8   \n",
       "\n",
       "            PU_day_of_week  last_interval_demand  last_day_demand  \\\n",
       "date                                                                \n",
       "2023-01-08               6                   0.0              0.0   \n",
       "2023-01-08               6                   0.0              0.0   \n",
       "2023-01-08               6                   0.0              1.0   \n",
       "2023-01-08               6                   3.0              1.0   \n",
       "2023-01-08               6                   1.0              1.0   \n",
       "\n",
       "            last_week_demand  \n",
       "date                          \n",
       "2023-01-08               0.0  \n",
       "2023-01-08               1.0  \n",
       "2023-01-08               1.0  \n",
       "2023-01-08               1.0  \n",
       "2023-01-08              13.0  "
      ]
     },
     "execution_count": 11,
     "metadata": {},
     "output_type": "execute_result"
    }
   ],
   "source": [
    "print(train_df.shape)\n",
    "train_df.head()"
   ]
  },
  {
   "cell_type": "code",
   "execution_count": 12,
   "metadata": {},
   "outputs": [
    {
     "name": "stdout",
     "output_type": "stream",
     "text": [
      "(62880, 8)\n"
     ]
    },
    {
     "data": {
      "text/html": [
       "<div>\n",
       "<style scoped>\n",
       "    .dataframe tbody tr th:only-of-type {\n",
       "        vertical-align: middle;\n",
       "    }\n",
       "\n",
       "    .dataframe tbody tr th {\n",
       "        vertical-align: top;\n",
       "    }\n",
       "\n",
       "    .dataframe thead th {\n",
       "        text-align: right;\n",
       "    }\n",
       "</style>\n",
       "<table border=\"1\" class=\"dataframe\">\n",
       "  <thead>\n",
       "    <tr style=\"text-align: right;\">\n",
       "      <th></th>\n",
       "      <th>time_interval_number</th>\n",
       "      <th>PULocationID</th>\n",
       "      <th>count</th>\n",
       "      <th>PU_day_of_month</th>\n",
       "      <th>PU_day_of_week</th>\n",
       "      <th>last_interval_demand</th>\n",
       "      <th>last_day_demand</th>\n",
       "      <th>last_week_demand</th>\n",
       "    </tr>\n",
       "    <tr>\n",
       "      <th>date</th>\n",
       "      <th></th>\n",
       "      <th></th>\n",
       "      <th></th>\n",
       "      <th></th>\n",
       "      <th></th>\n",
       "      <th></th>\n",
       "      <th></th>\n",
       "      <th></th>\n",
       "    </tr>\n",
       "  </thead>\n",
       "  <tbody>\n",
       "    <tr>\n",
       "      <th>2023-04-01</th>\n",
       "      <td>1</td>\n",
       "      <td>1</td>\n",
       "      <td>1</td>\n",
       "      <td>1</td>\n",
       "      <td>5</td>\n",
       "      <td>0.0</td>\n",
       "      <td>0.0</td>\n",
       "      <td>0.0</td>\n",
       "    </tr>\n",
       "    <tr>\n",
       "      <th>2023-04-01</th>\n",
       "      <td>2</td>\n",
       "      <td>1</td>\n",
       "      <td>1</td>\n",
       "      <td>1</td>\n",
       "      <td>5</td>\n",
       "      <td>0.0</td>\n",
       "      <td>0.0</td>\n",
       "      <td>0.0</td>\n",
       "    </tr>\n",
       "    <tr>\n",
       "      <th>2023-04-01</th>\n",
       "      <td>3</td>\n",
       "      <td>1</td>\n",
       "      <td>1</td>\n",
       "      <td>1</td>\n",
       "      <td>5</td>\n",
       "      <td>1.0</td>\n",
       "      <td>0.0</td>\n",
       "      <td>3.0</td>\n",
       "    </tr>\n",
       "    <tr>\n",
       "      <th>2023-04-01</th>\n",
       "      <td>4</td>\n",
       "      <td>1</td>\n",
       "      <td>1</td>\n",
       "      <td>1</td>\n",
       "      <td>5</td>\n",
       "      <td>1.0</td>\n",
       "      <td>2.0</td>\n",
       "      <td>2.0</td>\n",
       "    </tr>\n",
       "    <tr>\n",
       "      <th>2023-04-01</th>\n",
       "      <td>5</td>\n",
       "      <td>1</td>\n",
       "      <td>1</td>\n",
       "      <td>1</td>\n",
       "      <td>5</td>\n",
       "      <td>0.0</td>\n",
       "      <td>5.0</td>\n",
       "      <td>3.0</td>\n",
       "    </tr>\n",
       "  </tbody>\n",
       "</table>\n",
       "</div>"
      ],
      "text/plain": [
       "            time_interval_number  PULocationID  count  PU_day_of_month  \\\n",
       "date                                                                     \n",
       "2023-04-01                     1             1      1                1   \n",
       "2023-04-01                     2             1      1                1   \n",
       "2023-04-01                     3             1      1                1   \n",
       "2023-04-01                     4             1      1                1   \n",
       "2023-04-01                     5             1      1                1   \n",
       "\n",
       "            PU_day_of_week  last_interval_demand  last_day_demand  \\\n",
       "date                                                                \n",
       "2023-04-01               5                   0.0              0.0   \n",
       "2023-04-01               5                   0.0              0.0   \n",
       "2023-04-01               5                   1.0              0.0   \n",
       "2023-04-01               5                   1.0              2.0   \n",
       "2023-04-01               5                   0.0              5.0   \n",
       "\n",
       "            last_week_demand  \n",
       "date                          \n",
       "2023-04-01               0.0  \n",
       "2023-04-01               0.0  \n",
       "2023-04-01               3.0  \n",
       "2023-04-01               2.0  \n",
       "2023-04-01               3.0  "
      ]
     },
     "execution_count": 12,
     "metadata": {},
     "output_type": "execute_result"
    }
   ],
   "source": [
    "print(test_df.shape)\n",
    "test_df.head()"
   ]
  },
  {
   "cell_type": "markdown",
   "metadata": {
    "id": "aOdaGdscgNQM"
   },
   "source": [
    "## Target and Feature split"
   ]
  },
  {
   "cell_type": "code",
   "execution_count": 13,
   "metadata": {
    "id": "eoTmtHn-ruLL"
   },
   "outputs": [],
   "source": [
    "train_label_df = train_df[TARGET]\n",
    "train_df = train_df.drop(TARGET, axis=1)\n",
    "\n",
    "test_label_df = test_df[TARGET]\n",
    "test_df = test_df.drop(TARGET, axis=1)"
   ]
  },
  {
   "cell_type": "code",
   "execution_count": 14,
   "metadata": {},
   "outputs": [
    {
     "name": "stdout",
     "output_type": "stream",
     "text": [
      "(173968, 7)\n"
     ]
    },
    {
     "data": {
      "text/html": [
       "<div>\n",
       "<style scoped>\n",
       "    .dataframe tbody tr th:only-of-type {\n",
       "        vertical-align: middle;\n",
       "    }\n",
       "\n",
       "    .dataframe tbody tr th {\n",
       "        vertical-align: top;\n",
       "    }\n",
       "\n",
       "    .dataframe thead th {\n",
       "        text-align: right;\n",
       "    }\n",
       "</style>\n",
       "<table border=\"1\" class=\"dataframe\">\n",
       "  <thead>\n",
       "    <tr style=\"text-align: right;\">\n",
       "      <th></th>\n",
       "      <th>time_interval_number</th>\n",
       "      <th>PULocationID</th>\n",
       "      <th>PU_day_of_month</th>\n",
       "      <th>PU_day_of_week</th>\n",
       "      <th>last_interval_demand</th>\n",
       "      <th>last_day_demand</th>\n",
       "      <th>last_week_demand</th>\n",
       "    </tr>\n",
       "    <tr>\n",
       "      <th>date</th>\n",
       "      <th></th>\n",
       "      <th></th>\n",
       "      <th></th>\n",
       "      <th></th>\n",
       "      <th></th>\n",
       "      <th></th>\n",
       "      <th></th>\n",
       "    </tr>\n",
       "  </thead>\n",
       "  <tbody>\n",
       "    <tr>\n",
       "      <th>2023-01-08</th>\n",
       "      <td>1</td>\n",
       "      <td>1</td>\n",
       "      <td>8</td>\n",
       "      <td>6</td>\n",
       "      <td>0.0</td>\n",
       "      <td>0.0</td>\n",
       "      <td>0.0</td>\n",
       "    </tr>\n",
       "    <tr>\n",
       "      <th>2023-01-08</th>\n",
       "      <td>2</td>\n",
       "      <td>1</td>\n",
       "      <td>8</td>\n",
       "      <td>6</td>\n",
       "      <td>0.0</td>\n",
       "      <td>0.0</td>\n",
       "      <td>1.0</td>\n",
       "    </tr>\n",
       "    <tr>\n",
       "      <th>2023-01-08</th>\n",
       "      <td>3</td>\n",
       "      <td>1</td>\n",
       "      <td>8</td>\n",
       "      <td>6</td>\n",
       "      <td>0.0</td>\n",
       "      <td>1.0</td>\n",
       "      <td>1.0</td>\n",
       "    </tr>\n",
       "    <tr>\n",
       "      <th>2023-01-08</th>\n",
       "      <td>4</td>\n",
       "      <td>1</td>\n",
       "      <td>8</td>\n",
       "      <td>6</td>\n",
       "      <td>3.0</td>\n",
       "      <td>1.0</td>\n",
       "      <td>1.0</td>\n",
       "    </tr>\n",
       "    <tr>\n",
       "      <th>2023-01-08</th>\n",
       "      <td>5</td>\n",
       "      <td>1</td>\n",
       "      <td>8</td>\n",
       "      <td>6</td>\n",
       "      <td>1.0</td>\n",
       "      <td>1.0</td>\n",
       "      <td>13.0</td>\n",
       "    </tr>\n",
       "  </tbody>\n",
       "</table>\n",
       "</div>"
      ],
      "text/plain": [
       "            time_interval_number  PULocationID  PU_day_of_month  \\\n",
       "date                                                              \n",
       "2023-01-08                     1             1                8   \n",
       "2023-01-08                     2             1                8   \n",
       "2023-01-08                     3             1                8   \n",
       "2023-01-08                     4             1                8   \n",
       "2023-01-08                     5             1                8   \n",
       "\n",
       "            PU_day_of_week  last_interval_demand  last_day_demand  \\\n",
       "date                                                                \n",
       "2023-01-08               6                   0.0              0.0   \n",
       "2023-01-08               6                   0.0              0.0   \n",
       "2023-01-08               6                   0.0              1.0   \n",
       "2023-01-08               6                   3.0              1.0   \n",
       "2023-01-08               6                   1.0              1.0   \n",
       "\n",
       "            last_week_demand  \n",
       "date                          \n",
       "2023-01-08               0.0  \n",
       "2023-01-08               1.0  \n",
       "2023-01-08               1.0  \n",
       "2023-01-08               1.0  \n",
       "2023-01-08              13.0  "
      ]
     },
     "execution_count": 14,
     "metadata": {},
     "output_type": "execute_result"
    }
   ],
   "source": [
    "print(train_df.shape)\n",
    "train_df.head()"
   ]
  },
  {
   "cell_type": "code",
   "execution_count": 15,
   "metadata": {},
   "outputs": [
    {
     "name": "stdout",
     "output_type": "stream",
     "text": [
      "(173968,)\n"
     ]
    },
    {
     "data": {
      "text/plain": [
       "date\n",
       "2023-01-08    1\n",
       "2023-01-08    1\n",
       "2023-01-08    3\n",
       "2023-01-08    1\n",
       "2023-01-08    2\n",
       "Name: count, dtype: int64"
      ]
     },
     "execution_count": 15,
     "metadata": {},
     "output_type": "execute_result"
    }
   ],
   "source": [
    "print(train_label_df.shape)\n",
    "train_label_df.head()"
   ]
  },
  {
   "cell_type": "code",
   "execution_count": 16,
   "metadata": {},
   "outputs": [
    {
     "name": "stdout",
     "output_type": "stream",
     "text": [
      "(62880, 7)\n"
     ]
    },
    {
     "data": {
      "text/html": [
       "<div>\n",
       "<style scoped>\n",
       "    .dataframe tbody tr th:only-of-type {\n",
       "        vertical-align: middle;\n",
       "    }\n",
       "\n",
       "    .dataframe tbody tr th {\n",
       "        vertical-align: top;\n",
       "    }\n",
       "\n",
       "    .dataframe thead th {\n",
       "        text-align: right;\n",
       "    }\n",
       "</style>\n",
       "<table border=\"1\" class=\"dataframe\">\n",
       "  <thead>\n",
       "    <tr style=\"text-align: right;\">\n",
       "      <th></th>\n",
       "      <th>time_interval_number</th>\n",
       "      <th>PULocationID</th>\n",
       "      <th>PU_day_of_month</th>\n",
       "      <th>PU_day_of_week</th>\n",
       "      <th>last_interval_demand</th>\n",
       "      <th>last_day_demand</th>\n",
       "      <th>last_week_demand</th>\n",
       "    </tr>\n",
       "    <tr>\n",
       "      <th>date</th>\n",
       "      <th></th>\n",
       "      <th></th>\n",
       "      <th></th>\n",
       "      <th></th>\n",
       "      <th></th>\n",
       "      <th></th>\n",
       "      <th></th>\n",
       "    </tr>\n",
       "  </thead>\n",
       "  <tbody>\n",
       "    <tr>\n",
       "      <th>2023-04-01</th>\n",
       "      <td>1</td>\n",
       "      <td>1</td>\n",
       "      <td>1</td>\n",
       "      <td>5</td>\n",
       "      <td>0.0</td>\n",
       "      <td>0.0</td>\n",
       "      <td>0.0</td>\n",
       "    </tr>\n",
       "    <tr>\n",
       "      <th>2023-04-01</th>\n",
       "      <td>2</td>\n",
       "      <td>1</td>\n",
       "      <td>1</td>\n",
       "      <td>5</td>\n",
       "      <td>0.0</td>\n",
       "      <td>0.0</td>\n",
       "      <td>0.0</td>\n",
       "    </tr>\n",
       "    <tr>\n",
       "      <th>2023-04-01</th>\n",
       "      <td>3</td>\n",
       "      <td>1</td>\n",
       "      <td>1</td>\n",
       "      <td>5</td>\n",
       "      <td>1.0</td>\n",
       "      <td>0.0</td>\n",
       "      <td>3.0</td>\n",
       "    </tr>\n",
       "    <tr>\n",
       "      <th>2023-04-01</th>\n",
       "      <td>4</td>\n",
       "      <td>1</td>\n",
       "      <td>1</td>\n",
       "      <td>5</td>\n",
       "      <td>1.0</td>\n",
       "      <td>2.0</td>\n",
       "      <td>2.0</td>\n",
       "    </tr>\n",
       "    <tr>\n",
       "      <th>2023-04-01</th>\n",
       "      <td>5</td>\n",
       "      <td>1</td>\n",
       "      <td>1</td>\n",
       "      <td>5</td>\n",
       "      <td>0.0</td>\n",
       "      <td>5.0</td>\n",
       "      <td>3.0</td>\n",
       "    </tr>\n",
       "  </tbody>\n",
       "</table>\n",
       "</div>"
      ],
      "text/plain": [
       "            time_interval_number  PULocationID  PU_day_of_month  \\\n",
       "date                                                              \n",
       "2023-04-01                     1             1                1   \n",
       "2023-04-01                     2             1                1   \n",
       "2023-04-01                     3             1                1   \n",
       "2023-04-01                     4             1                1   \n",
       "2023-04-01                     5             1                1   \n",
       "\n",
       "            PU_day_of_week  last_interval_demand  last_day_demand  \\\n",
       "date                                                                \n",
       "2023-04-01               5                   0.0              0.0   \n",
       "2023-04-01               5                   0.0              0.0   \n",
       "2023-04-01               5                   1.0              0.0   \n",
       "2023-04-01               5                   1.0              2.0   \n",
       "2023-04-01               5                   0.0              5.0   \n",
       "\n",
       "            last_week_demand  \n",
       "date                          \n",
       "2023-04-01               0.0  \n",
       "2023-04-01               0.0  \n",
       "2023-04-01               3.0  \n",
       "2023-04-01               2.0  \n",
       "2023-04-01               3.0  "
      ]
     },
     "execution_count": 16,
     "metadata": {},
     "output_type": "execute_result"
    }
   ],
   "source": [
    "print(test_df.shape)\n",
    "test_df.head()"
   ]
  },
  {
   "cell_type": "code",
   "execution_count": 17,
   "metadata": {},
   "outputs": [
    {
     "name": "stdout",
     "output_type": "stream",
     "text": [
      "(62880,)\n"
     ]
    },
    {
     "data": {
      "text/plain": [
       "date\n",
       "2023-04-01    1\n",
       "2023-04-01    1\n",
       "2023-04-01    1\n",
       "2023-04-01    1\n",
       "2023-04-01    1\n",
       "Name: count, dtype: int64"
      ]
     },
     "execution_count": 17,
     "metadata": {},
     "output_type": "execute_result"
    }
   ],
   "source": [
    "print(test_label_df.shape)\n",
    "test_label_df.head()"
   ]
  },
  {
   "cell_type": "markdown",
   "metadata": {
    "id": "0Ohrvwo2fwnC"
   },
   "source": [
    "## Train and Validation split"
   ]
  },
  {
   "cell_type": "code",
   "execution_count": 18,
   "metadata": {
    "id": "A_-X9bYeTO_j"
   },
   "outputs": [],
   "source": [
    "train_df, validation_df, train_label_df, validation_label_df = train_test_split(\n",
    "    train_df,\n",
    "    train_label_df,\n",
    "    test_size=VALIDATION_SPLIT_RATIO,\n",
    "    shuffle=False\n",
    ")"
   ]
  },
  {
   "cell_type": "markdown",
   "metadata": {
    "id": "ghHG1ei3gdme"
   },
   "source": [
    "# ML Models"
   ]
  },
  {
   "cell_type": "code",
   "execution_count": 19,
   "metadata": {
    "id": "mdnjPVLundY2"
   },
   "outputs": [],
   "source": [
    "def model_training(ml_model, train_df, train_label_df, **params):\n",
    "    model = ml_model(**params)\n",
    "    model.fit(\n",
    "        train_df,\n",
    "        train_label_df\n",
    "    )\n",
    "    return model\n",
    "\n",
    "\n",
    "replace_negatives = np.vectorize(lambda x: 0 if x < 0 else x)"
   ]
  },
  {
   "cell_type": "markdown",
   "metadata": {
    "id": "LN9nCqA9GSy1"
   },
   "source": [
    "## Calculate Error"
   ]
  },
  {
   "cell_type": "code",
   "execution_count": 20,
   "metadata": {
    "id": "wddQ_PcZqlI2"
   },
   "outputs": [],
   "source": [
    "def symmetric_mean_absolute_percentage_error(actual, predicted) -> float:\n",
    "    return round(\n",
    "        np.mean(\n",
    "            np.abs(predicted - actual) /\n",
    "            ((np.abs(predicted) + np.abs(actual)) / 2)\n",
    "        ), 4\n",
    "    )\n",
    "\n",
    "\n",
    "def error_calculator(real_demand, predicted_demand):\n",
    "    print(\n",
    "        'SMAPE: ',\n",
    "        round(\n",
    "            symmetric_mean_absolute_percentage_error(\n",
    "                real_demand,\n",
    "                predicted_demand\n",
    "            ) * 100, 2\n",
    "        ), '%'\n",
    "    )\n",
    "    print(\n",
    "        'MAPE:  ',\n",
    "        round(\n",
    "            float(\n",
    "                mean_absolute_percentage_error(\n",
    "                    real_demand,\n",
    "                    predicted_demand\n",
    "                )\n",
    "            ) * 100, 2\n",
    "        ), '%'\n",
    "    )\n",
    "    print(\n",
    "        'MSE:   ',\n",
    "        round(\n",
    "            float(\n",
    "                mean_squared_error(\n",
    "                    real_demand,\n",
    "                    predicted_demand\n",
    "                )\n",
    "            ), 2\n",
    "        )\n",
    "    )\n",
    "    print(\n",
    "        'MAE:   ',\n",
    "        round(\n",
    "            float(\n",
    "                mean_absolute_error(\n",
    "                    real_demand,\n",
    "                    predicted_demand\n",
    "                )\n",
    "            ), 2\n",
    "        )\n",
    "    )"
   ]
  },
  {
   "cell_type": "markdown",
   "metadata": {
    "id": "UJ9QcWTapixZ"
   },
   "source": [
    "## Linear Regression Model"
   ]
  },
  {
   "cell_type": "code",
   "execution_count": 21,
   "metadata": {
    "id": "P9IrrcU8iAft"
   },
   "outputs": [],
   "source": [
    "lr_model = model_training(\n",
    "    LinearRegression,\n",
    "    train_df,\n",
    "    train_label_df\n",
    ")"
   ]
  },
  {
   "cell_type": "markdown",
   "metadata": {
    "id": "9ioUk22GgpFy"
   },
   "source": [
    "### Validation prediction"
   ]
  },
  {
   "cell_type": "code",
   "execution_count": 22,
   "metadata": {
    "colab": {
     "base_uri": "https://localhost:8080/"
    },
    "id": "-4qoRLP4VqFr",
    "outputId": "d8f41d2a-9566-44cf-957a-c6975f876178"
   },
   "outputs": [
    {
     "name": "stdout",
     "output_type": "stream",
     "text": [
      "SMAPE:  58.53 %\n",
      "MAPE:   58.9 %\n",
      "MSE:    1161.5\n",
      "MAE:    12.0\n"
     ]
    }
   ],
   "source": [
    "lr_validation_pred = replace_negatives(\n",
    "    np.round_(\n",
    "        lr_model.predict(\n",
    "            validation_df\n",
    "        )\n",
    "    )\n",
    ")\n",
    "error_calculator(\n",
    "    validation_label_df,\n",
    "    lr_validation_pred\n",
    ")"
   ]
  },
  {
   "cell_type": "markdown",
   "metadata": {
    "id": "RtoGP9VchGKZ"
   },
   "source": [
    "### Test prediction"
   ]
  },
  {
   "cell_type": "code",
   "execution_count": 23,
   "metadata": {
    "colab": {
     "base_uri": "https://localhost:8080/"
    },
    "id": "tt6TaA5SVf65",
    "outputId": "8a9741c1-4abd-473c-a721-97c625efa6de"
   },
   "outputs": [
    {
     "name": "stdout",
     "output_type": "stream",
     "text": [
      "SMAPE:  70.52 %\n",
      "MAPE:   63.03 %\n",
      "MSE:    592.9\n",
      "MAE:    7.65\n"
     ]
    }
   ],
   "source": [
    "lr_test_pred = replace_negatives(\n",
    "    np.round_(\n",
    "        lr_model.predict(\n",
    "            test_df\n",
    "        )\n",
    "    )\n",
    ")\n",
    "error_calculator(\n",
    "    test_label_df,\n",
    "    lr_test_pred\n",
    ")"
   ]
  },
  {
   "cell_type": "markdown",
   "metadata": {
    "id": "2GZMbrj_4lel"
   },
   "source": [
    "### Result Data"
   ]
  },
  {
   "cell_type": "code",
   "execution_count": 24,
   "metadata": {
    "colab": {
     "base_uri": "https://localhost:8080/",
     "height": 252
    },
    "id": "JvIW0Jme4len",
    "outputId": "a0f3234c-ead6-4072-80e9-fd81d38f267f"
   },
   "outputs": [
    {
     "name": "stdout",
     "output_type": "stream",
     "text": [
      "(62880, 9)\n"
     ]
    },
    {
     "data": {
      "text/html": [
       "<div>\n",
       "<style scoped>\n",
       "    .dataframe tbody tr th:only-of-type {\n",
       "        vertical-align: middle;\n",
       "    }\n",
       "\n",
       "    .dataframe tbody tr th {\n",
       "        vertical-align: top;\n",
       "    }\n",
       "\n",
       "    .dataframe thead th {\n",
       "        text-align: right;\n",
       "    }\n",
       "</style>\n",
       "<table border=\"1\" class=\"dataframe\">\n",
       "  <thead>\n",
       "    <tr style=\"text-align: right;\">\n",
       "      <th></th>\n",
       "      <th>time_interval_number</th>\n",
       "      <th>PULocationID</th>\n",
       "      <th>PU_day_of_month</th>\n",
       "      <th>PU_day_of_week</th>\n",
       "      <th>last_interval_demand</th>\n",
       "      <th>last_day_demand</th>\n",
       "      <th>last_week_demand</th>\n",
       "      <th>real demand</th>\n",
       "      <th>predicted demand</th>\n",
       "    </tr>\n",
       "    <tr>\n",
       "      <th>date</th>\n",
       "      <th></th>\n",
       "      <th></th>\n",
       "      <th></th>\n",
       "      <th></th>\n",
       "      <th></th>\n",
       "      <th></th>\n",
       "      <th></th>\n",
       "      <th></th>\n",
       "      <th></th>\n",
       "    </tr>\n",
       "  </thead>\n",
       "  <tbody>\n",
       "    <tr>\n",
       "      <th>2023-04-01</th>\n",
       "      <td>1</td>\n",
       "      <td>1</td>\n",
       "      <td>1</td>\n",
       "      <td>5</td>\n",
       "      <td>0.0</td>\n",
       "      <td>0.0</td>\n",
       "      <td>0.0</td>\n",
       "      <td>1</td>\n",
       "      <td>0.0</td>\n",
       "    </tr>\n",
       "    <tr>\n",
       "      <th>2023-04-01</th>\n",
       "      <td>2</td>\n",
       "      <td>1</td>\n",
       "      <td>1</td>\n",
       "      <td>5</td>\n",
       "      <td>0.0</td>\n",
       "      <td>0.0</td>\n",
       "      <td>0.0</td>\n",
       "      <td>1</td>\n",
       "      <td>0.0</td>\n",
       "    </tr>\n",
       "    <tr>\n",
       "      <th>2023-04-01</th>\n",
       "      <td>3</td>\n",
       "      <td>1</td>\n",
       "      <td>1</td>\n",
       "      <td>5</td>\n",
       "      <td>1.0</td>\n",
       "      <td>0.0</td>\n",
       "      <td>3.0</td>\n",
       "      <td>1</td>\n",
       "      <td>3.0</td>\n",
       "    </tr>\n",
       "    <tr>\n",
       "      <th>2023-04-01</th>\n",
       "      <td>4</td>\n",
       "      <td>1</td>\n",
       "      <td>1</td>\n",
       "      <td>5</td>\n",
       "      <td>1.0</td>\n",
       "      <td>2.0</td>\n",
       "      <td>2.0</td>\n",
       "      <td>1</td>\n",
       "      <td>3.0</td>\n",
       "    </tr>\n",
       "    <tr>\n",
       "      <th>2023-04-01</th>\n",
       "      <td>5</td>\n",
       "      <td>1</td>\n",
       "      <td>1</td>\n",
       "      <td>5</td>\n",
       "      <td>0.0</td>\n",
       "      <td>5.0</td>\n",
       "      <td>3.0</td>\n",
       "      <td>1</td>\n",
       "      <td>4.0</td>\n",
       "    </tr>\n",
       "  </tbody>\n",
       "</table>\n",
       "</div>"
      ],
      "text/plain": [
       "            time_interval_number  PULocationID  PU_day_of_month  \\\n",
       "date                                                              \n",
       "2023-04-01                     1             1                1   \n",
       "2023-04-01                     2             1                1   \n",
       "2023-04-01                     3             1                1   \n",
       "2023-04-01                     4             1                1   \n",
       "2023-04-01                     5             1                1   \n",
       "\n",
       "            PU_day_of_week  last_interval_demand  last_day_demand  \\\n",
       "date                                                                \n",
       "2023-04-01               5                   0.0              0.0   \n",
       "2023-04-01               5                   0.0              0.0   \n",
       "2023-04-01               5                   1.0              0.0   \n",
       "2023-04-01               5                   1.0              2.0   \n",
       "2023-04-01               5                   0.0              5.0   \n",
       "\n",
       "            last_week_demand  real demand  predicted demand  \n",
       "date                                                         \n",
       "2023-04-01               0.0            1               0.0  \n",
       "2023-04-01               0.0            1               0.0  \n",
       "2023-04-01               3.0            1               3.0  \n",
       "2023-04-01               2.0            1               3.0  \n",
       "2023-04-01               3.0            1               4.0  "
      ]
     },
     "execution_count": 24,
     "metadata": {},
     "output_type": "execute_result"
    }
   ],
   "source": [
    "lr_result_df = test_df.copy()\n",
    "lr_result_df['real demand'] = test_label_df\n",
    "lr_result_df['predicted demand'] = lr_test_pred\n",
    "\n",
    "print(lr_result_df.shape)\n",
    "lr_result_df.head()"
   ]
  },
  {
   "cell_type": "code",
   "execution_count": 25,
   "metadata": {
    "id": "19J1PjyuG-iC"
   },
   "outputs": [],
   "source": [
    "lr_result_df.to_parquet(LR_OUTPUT_PATH)"
   ]
  },
  {
   "cell_type": "markdown",
   "metadata": {
    "id": "_Zx1nQT8pixc"
   },
   "source": [
    "## XGBoost Model"
   ]
  },
  {
   "cell_type": "markdown",
   "metadata": {
    "id": "etcdoxu8hcxW"
   },
   "source": [
    "### Hyperparameter tuning"
   ]
  },
  {
   "cell_type": "code",
   "execution_count": 26,
   "metadata": {
    "colab": {
     "base_uri": "https://localhost:8080/"
    },
    "id": "EtPJikUtoV5t",
    "outputId": "23199f57-5128-4836-c235-533e317c4706"
   },
   "outputs": [
    {
     "name": "stdout",
     "output_type": "stream",
     "text": [
      "{'learning_rate': 0.1, 'max_depth': 1, 'n_estimators': 1000}\n"
     ]
    }
   ],
   "source": [
    "def hyper_parameter_tuning(n_estimators, learning_rate, max_depth, scoring_method):\n",
    "    parameters = {\n",
    "        'n_estimators': n_estimators,\n",
    "        'learning_rate': learning_rate,\n",
    "        'max_depth': max_depth\n",
    "    }\n",
    "\n",
    "    gc = GridSearchCV(\n",
    "        XGBRegressor(tree_method='gpu_hist', gpu_id=1),\n",
    "        parameters,\n",
    "        scoring=scoring_method\n",
    "    )\n",
    "\n",
    "    gc.fit(\n",
    "        train_df,\n",
    "        train_label_df\n",
    "    )\n",
    "\n",
    "    param = gc.best_params_\n",
    "\n",
    "    return param\n",
    "\n",
    "\n",
    "n_estimators = [700, 1000]\n",
    "learning_rate = [0.15, 0.1, 0.01]\n",
    "max_depth = [1, 2, 3]\n",
    "scoring_method = 'neg_root_mean_squared_error'\n",
    "\n",
    "param = hyper_parameter_tuning(\n",
    "    n_estimators,\n",
    "    learning_rate,\n",
    "    max_depth,\n",
    "    scoring_method\n",
    ")\n",
    "\n",
    "print(param)"
   ]
  },
  {
   "cell_type": "markdown",
   "metadata": {
    "id": "Zo2pKnCThqTm"
   },
   "source": [
    "### XGBoost Model"
   ]
  },
  {
   "cell_type": "code",
   "execution_count": 27,
   "metadata": {
    "id": "4jiwwi53pBbM"
   },
   "outputs": [],
   "source": [
    "XGB_model = model_training(\n",
    "    XGBRegressor,\n",
    "    train_df,\n",
    "    train_label_df,\n",
    "    n_estimators=param['n_estimators'],\n",
    "    learning_rate=param['learning_rate'],\n",
    "    max_depth=param['max_depth'],\n",
    "    tree_method='gpu_hist',\n",
    "    gpu_id=1\n",
    ")"
   ]
  },
  {
   "cell_type": "markdown",
   "metadata": {
    "id": "Y1ruHSFikZfu"
   },
   "source": [
    "### Validation prediction"
   ]
  },
  {
   "cell_type": "code",
   "execution_count": 28,
   "metadata": {
    "colab": {
     "base_uri": "https://localhost:8080/"
    },
    "id": "Cs6kMlFLklAP",
    "outputId": "607c7e12-2301-46f7-8c32-f2f8b3b6afcf"
   },
   "outputs": [
    {
     "name": "stdout",
     "output_type": "stream",
     "text": [
      "SMAPE:  54.54 %\n",
      "MAPE:   61.19 %\n",
      "MSE:    1327.64\n",
      "MAE:    12.68\n"
     ]
    }
   ],
   "source": [
    "XGB_validation_pred = replace_negatives(\n",
    "    np.round_(\n",
    "        XGB_model.predict(\n",
    "            validation_df\n",
    "        )\n",
    "    )\n",
    ")\n",
    "error_calculator(\n",
    "    validation_label_df,\n",
    "    XGB_validation_pred\n",
    ")"
   ]
  },
  {
   "cell_type": "markdown",
   "metadata": {
    "id": "crmdtYCakcDk"
   },
   "source": [
    "### Test prediction"
   ]
  },
  {
   "cell_type": "code",
   "execution_count": 29,
   "metadata": {
    "colab": {
     "base_uri": "https://localhost:8080/"
    },
    "id": "FTeKWnmNkoWy",
    "outputId": "35bf8995-bc54-44f8-da85-f127fe43eaa0"
   },
   "outputs": [
    {
     "name": "stdout",
     "output_type": "stream",
     "text": [
      "SMAPE:  62.14 %\n",
      "MAPE:   66.53 %\n",
      "MSE:    701.13\n",
      "MAE:    8.06\n"
     ]
    }
   ],
   "source": [
    "XGB_test_pred = replace_negatives(\n",
    "    np.round_(\n",
    "        XGB_model.predict(\n",
    "            test_df\n",
    "        )\n",
    "    )\n",
    ")\n",
    "error_calculator(\n",
    "    test_label_df,\n",
    "    XGB_test_pred\n",
    ")"
   ]
  },
  {
   "cell_type": "markdown",
   "metadata": {
    "id": "-tvgz0FB4anZ"
   },
   "source": [
    "### Result Data"
   ]
  },
  {
   "cell_type": "code",
   "execution_count": 30,
   "metadata": {
    "colab": {
     "base_uri": "https://localhost:8080/",
     "height": 252
    },
    "id": "gmF1vuTn0l-5",
    "outputId": "f17bdc63-1d56-49d5-d862-c7f9d9cbd6a5"
   },
   "outputs": [
    {
     "name": "stdout",
     "output_type": "stream",
     "text": [
      "(62880, 9)\n"
     ]
    },
    {
     "data": {
      "text/html": [
       "<div>\n",
       "<style scoped>\n",
       "    .dataframe tbody tr th:only-of-type {\n",
       "        vertical-align: middle;\n",
       "    }\n",
       "\n",
       "    .dataframe tbody tr th {\n",
       "        vertical-align: top;\n",
       "    }\n",
       "\n",
       "    .dataframe thead th {\n",
       "        text-align: right;\n",
       "    }\n",
       "</style>\n",
       "<table border=\"1\" class=\"dataframe\">\n",
       "  <thead>\n",
       "    <tr style=\"text-align: right;\">\n",
       "      <th></th>\n",
       "      <th>time_interval_number</th>\n",
       "      <th>PULocationID</th>\n",
       "      <th>PU_day_of_month</th>\n",
       "      <th>PU_day_of_week</th>\n",
       "      <th>last_interval_demand</th>\n",
       "      <th>last_day_demand</th>\n",
       "      <th>last_week_demand</th>\n",
       "      <th>real demand</th>\n",
       "      <th>predicted demand</th>\n",
       "    </tr>\n",
       "    <tr>\n",
       "      <th>date</th>\n",
       "      <th></th>\n",
       "      <th></th>\n",
       "      <th></th>\n",
       "      <th></th>\n",
       "      <th></th>\n",
       "      <th></th>\n",
       "      <th></th>\n",
       "      <th></th>\n",
       "      <th></th>\n",
       "    </tr>\n",
       "  </thead>\n",
       "  <tbody>\n",
       "    <tr>\n",
       "      <th>2023-04-01</th>\n",
       "      <td>1</td>\n",
       "      <td>1</td>\n",
       "      <td>1</td>\n",
       "      <td>5</td>\n",
       "      <td>0.0</td>\n",
       "      <td>0.0</td>\n",
       "      <td>0.0</td>\n",
       "      <td>1</td>\n",
       "      <td>0.0</td>\n",
       "    </tr>\n",
       "    <tr>\n",
       "      <th>2023-04-01</th>\n",
       "      <td>2</td>\n",
       "      <td>1</td>\n",
       "      <td>1</td>\n",
       "      <td>5</td>\n",
       "      <td>0.0</td>\n",
       "      <td>0.0</td>\n",
       "      <td>0.0</td>\n",
       "      <td>1</td>\n",
       "      <td>0.0</td>\n",
       "    </tr>\n",
       "    <tr>\n",
       "      <th>2023-04-01</th>\n",
       "      <td>3</td>\n",
       "      <td>1</td>\n",
       "      <td>1</td>\n",
       "      <td>5</td>\n",
       "      <td>1.0</td>\n",
       "      <td>0.0</td>\n",
       "      <td>3.0</td>\n",
       "      <td>1</td>\n",
       "      <td>2.0</td>\n",
       "    </tr>\n",
       "    <tr>\n",
       "      <th>2023-04-01</th>\n",
       "      <td>4</td>\n",
       "      <td>1</td>\n",
       "      <td>1</td>\n",
       "      <td>5</td>\n",
       "      <td>1.0</td>\n",
       "      <td>2.0</td>\n",
       "      <td>2.0</td>\n",
       "      <td>1</td>\n",
       "      <td>2.0</td>\n",
       "    </tr>\n",
       "    <tr>\n",
       "      <th>2023-04-01</th>\n",
       "      <td>5</td>\n",
       "      <td>1</td>\n",
       "      <td>1</td>\n",
       "      <td>5</td>\n",
       "      <td>0.0</td>\n",
       "      <td>5.0</td>\n",
       "      <td>3.0</td>\n",
       "      <td>1</td>\n",
       "      <td>3.0</td>\n",
       "    </tr>\n",
       "  </tbody>\n",
       "</table>\n",
       "</div>"
      ],
      "text/plain": [
       "            time_interval_number  PULocationID  PU_day_of_month  \\\n",
       "date                                                              \n",
       "2023-04-01                     1             1                1   \n",
       "2023-04-01                     2             1                1   \n",
       "2023-04-01                     3             1                1   \n",
       "2023-04-01                     4             1                1   \n",
       "2023-04-01                     5             1                1   \n",
       "\n",
       "            PU_day_of_week  last_interval_demand  last_day_demand  \\\n",
       "date                                                                \n",
       "2023-04-01               5                   0.0              0.0   \n",
       "2023-04-01               5                   0.0              0.0   \n",
       "2023-04-01               5                   1.0              0.0   \n",
       "2023-04-01               5                   1.0              2.0   \n",
       "2023-04-01               5                   0.0              5.0   \n",
       "\n",
       "            last_week_demand  real demand  predicted demand  \n",
       "date                                                         \n",
       "2023-04-01               0.0            1               0.0  \n",
       "2023-04-01               0.0            1               0.0  \n",
       "2023-04-01               3.0            1               2.0  \n",
       "2023-04-01               2.0            1               2.0  \n",
       "2023-04-01               3.0            1               3.0  "
      ]
     },
     "execution_count": 30,
     "metadata": {},
     "output_type": "execute_result"
    }
   ],
   "source": [
    "XGB_result_df = test_df.copy()\n",
    "XGB_result_df['real demand'] = test_label_df\n",
    "XGB_result_df['predicted demand'] = XGB_test_pred\n",
    "\n",
    "print(XGB_result_df.shape)\n",
    "XGB_result_df.head()"
   ]
  },
  {
   "cell_type": "code",
   "execution_count": 31,
   "metadata": {
    "id": "O0mga6itGpIQ"
   },
   "outputs": [],
   "source": [
    "XGB_result_df.to_parquet(XGB_OUTPUT_PATH)"
   ]
  }
 ],
 "metadata": {
  "colab": {
   "provenance": []
  },
  "kernelspec": {
   "display_name": "Python 3 (ipykernel)",
   "language": "python",
   "name": "python3"
  },
  "language_info": {
   "codemirror_mode": {
    "name": "ipython",
    "version": 3
   },
   "file_extension": ".py",
   "mimetype": "text/x-python",
   "name": "python",
   "nbconvert_exporter": "python",
   "pygments_lexer": "ipython3",
   "version": "3.8.10"
  }
 },
 "nbformat": 4,
 "nbformat_minor": 4
}
