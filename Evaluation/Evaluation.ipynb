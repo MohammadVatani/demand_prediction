{
 "cells": [
  {
   "cell_type": "markdown",
   "id": "fb0b2551-1c72-44d6-bf9d-a7eccc24692b",
   "metadata": {},
   "source": [
    "# Import Required Libraries"
   ]
  },
  {
   "cell_type": "code",
   "execution_count": 1,
   "id": "a53ee13d-030a-4c40-a9eb-fa61f6fc8f8c",
   "metadata": {
    "tags": []
   },
   "outputs": [],
   "source": [
    "import geopandas as gpd\n",
    "import matplotlib.pyplot as plt\n",
    "import numpy as np\n",
    "import pandas as pd\n",
    "import pyarrow.parquet as pq\n",
    "from itertools import product"
   ]
  },
  {
   "cell_type": "markdown",
   "id": "0d3bd324-02da-4d63-a90e-f4a43c18ddb0",
   "metadata": {},
   "source": [
    "# Load Data files"
   ]
  },
  {
   "cell_type": "code",
   "execution_count": 2,
   "id": "bebae843-05f3-41c1-8bc3-3a8286a9facf",
   "metadata": {},
   "outputs": [],
   "source": [
    "DATA_FILE_PATHS = '/workspace/rahnemacollege/Project/Git/demand-prediction/data'\n",
    "start_date = pd.to_datetime('2023-04-01 00:00:00')\n",
    "end_date = pd.to_datetime('2023-05-01 00:00:00')"
   ]
  },
  {
   "cell_type": "code",
   "execution_count": 3,
   "id": "9b094787-f7e0-4cb2-9a3b-4b9db62a9eae",
   "metadata": {},
   "outputs": [
    {
     "name": "stdout",
     "output_type": "stream",
     "text": [
      "(12595923, 20)\n"
     ]
    },
    {
     "data": {
      "text/html": [
       "<div>\n",
       "<style scoped>\n",
       "    .dataframe tbody tr th:only-of-type {\n",
       "        vertical-align: middle;\n",
       "    }\n",
       "\n",
       "    .dataframe tbody tr th {\n",
       "        vertical-align: top;\n",
       "    }\n",
       "\n",
       "    .dataframe thead th {\n",
       "        text-align: right;\n",
       "    }\n",
       "</style>\n",
       "<table border=\"1\" class=\"dataframe\">\n",
       "  <thead>\n",
       "    <tr style=\"text-align: right;\">\n",
       "      <th></th>\n",
       "      <th>VendorID</th>\n",
       "      <th>tpep_pickup_datetime</th>\n",
       "      <th>tpep_dropoff_datetime</th>\n",
       "      <th>passenger_count</th>\n",
       "      <th>trip_distance</th>\n",
       "      <th>RatecodeID</th>\n",
       "      <th>store_and_fwd_flag</th>\n",
       "      <th>PULocationID</th>\n",
       "      <th>DOLocationID</th>\n",
       "      <th>payment_type</th>\n",
       "      <th>fare_amount</th>\n",
       "      <th>extra</th>\n",
       "      <th>mta_tax</th>\n",
       "      <th>tip_amount</th>\n",
       "      <th>tolls_amount</th>\n",
       "      <th>improvement_surcharge</th>\n",
       "      <th>total_amount</th>\n",
       "      <th>congestion_surcharge</th>\n",
       "      <th>airport_fee</th>\n",
       "      <th>date</th>\n",
       "    </tr>\n",
       "  </thead>\n",
       "  <tbody>\n",
       "    <tr>\n",
       "      <th>0</th>\n",
       "      <td>2</td>\n",
       "      <td>2023-01-02 00:00:37</td>\n",
       "      <td>2023-01-02 00:13:15</td>\n",
       "      <td>1.0</td>\n",
       "      <td>9.29</td>\n",
       "      <td>1.0</td>\n",
       "      <td>N</td>\n",
       "      <td>70</td>\n",
       "      <td>4</td>\n",
       "      <td>1</td>\n",
       "      <td>35.9</td>\n",
       "      <td>1.0</td>\n",
       "      <td>0.5</td>\n",
       "      <td>8.18</td>\n",
       "      <td>0.00</td>\n",
       "      <td>1.0</td>\n",
       "      <td>49.08</td>\n",
       "      <td>2.5</td>\n",
       "      <td>0.00</td>\n",
       "      <td>2023-01-02</td>\n",
       "    </tr>\n",
       "    <tr>\n",
       "      <th>1</th>\n",
       "      <td>2</td>\n",
       "      <td>2023-01-02 00:01:53</td>\n",
       "      <td>2023-01-02 00:34:16</td>\n",
       "      <td>1.0</td>\n",
       "      <td>20.40</td>\n",
       "      <td>2.0</td>\n",
       "      <td>N</td>\n",
       "      <td>132</td>\n",
       "      <td>238</td>\n",
       "      <td>1</td>\n",
       "      <td>70.0</td>\n",
       "      <td>0.0</td>\n",
       "      <td>0.5</td>\n",
       "      <td>15.86</td>\n",
       "      <td>6.55</td>\n",
       "      <td>1.0</td>\n",
       "      <td>95.16</td>\n",
       "      <td>0.0</td>\n",
       "      <td>1.25</td>\n",
       "      <td>2023-01-02</td>\n",
       "    </tr>\n",
       "    <tr>\n",
       "      <th>2</th>\n",
       "      <td>2</td>\n",
       "      <td>2023-01-02 00:04:59</td>\n",
       "      <td>2023-01-02 00:12:03</td>\n",
       "      <td>5.0</td>\n",
       "      <td>1.68</td>\n",
       "      <td>1.0</td>\n",
       "      <td>N</td>\n",
       "      <td>142</td>\n",
       "      <td>229</td>\n",
       "      <td>1</td>\n",
       "      <td>10.0</td>\n",
       "      <td>1.0</td>\n",
       "      <td>0.5</td>\n",
       "      <td>2.25</td>\n",
       "      <td>0.00</td>\n",
       "      <td>1.0</td>\n",
       "      <td>17.25</td>\n",
       "      <td>2.5</td>\n",
       "      <td>0.00</td>\n",
       "      <td>2023-01-02</td>\n",
       "    </tr>\n",
       "    <tr>\n",
       "      <th>3</th>\n",
       "      <td>2</td>\n",
       "      <td>2023-01-02 00:00:28</td>\n",
       "      <td>2023-01-02 00:08:45</td>\n",
       "      <td>1.0</td>\n",
       "      <td>1.74</td>\n",
       "      <td>1.0</td>\n",
       "      <td>N</td>\n",
       "      <td>164</td>\n",
       "      <td>224</td>\n",
       "      <td>1</td>\n",
       "      <td>10.7</td>\n",
       "      <td>1.0</td>\n",
       "      <td>0.5</td>\n",
       "      <td>0.00</td>\n",
       "      <td>0.00</td>\n",
       "      <td>1.0</td>\n",
       "      <td>15.70</td>\n",
       "      <td>2.5</td>\n",
       "      <td>0.00</td>\n",
       "      <td>2023-01-02</td>\n",
       "    </tr>\n",
       "    <tr>\n",
       "      <th>4</th>\n",
       "      <td>2</td>\n",
       "      <td>2023-01-02 00:00:08</td>\n",
       "      <td>2023-01-02 00:04:30</td>\n",
       "      <td>6.0</td>\n",
       "      <td>0.63</td>\n",
       "      <td>1.0</td>\n",
       "      <td>N</td>\n",
       "      <td>144</td>\n",
       "      <td>231</td>\n",
       "      <td>1</td>\n",
       "      <td>6.5</td>\n",
       "      <td>1.0</td>\n",
       "      <td>0.5</td>\n",
       "      <td>0.00</td>\n",
       "      <td>0.00</td>\n",
       "      <td>1.0</td>\n",
       "      <td>11.50</td>\n",
       "      <td>2.5</td>\n",
       "      <td>0.00</td>\n",
       "      <td>2023-01-02</td>\n",
       "    </tr>\n",
       "  </tbody>\n",
       "</table>\n",
       "</div>"
      ],
      "text/plain": [
       "   VendorID tpep_pickup_datetime tpep_dropoff_datetime  passenger_count  \\\n",
       "0         2  2023-01-02 00:00:37   2023-01-02 00:13:15              1.0   \n",
       "1         2  2023-01-02 00:01:53   2023-01-02 00:34:16              1.0   \n",
       "2         2  2023-01-02 00:04:59   2023-01-02 00:12:03              5.0   \n",
       "3         2  2023-01-02 00:00:28   2023-01-02 00:08:45              1.0   \n",
       "4         2  2023-01-02 00:00:08   2023-01-02 00:04:30              6.0   \n",
       "\n",
       "   trip_distance  RatecodeID store_and_fwd_flag  PULocationID  DOLocationID  \\\n",
       "0           9.29         1.0                  N            70             4   \n",
       "1          20.40         2.0                  N           132           238   \n",
       "2           1.68         1.0                  N           142           229   \n",
       "3           1.74         1.0                  N           164           224   \n",
       "4           0.63         1.0                  N           144           231   \n",
       "\n",
       "   payment_type  fare_amount  extra  mta_tax  tip_amount  tolls_amount  \\\n",
       "0             1         35.9    1.0      0.5        8.18          0.00   \n",
       "1             1         70.0    0.0      0.5       15.86          6.55   \n",
       "2             1         10.0    1.0      0.5        2.25          0.00   \n",
       "3             1         10.7    1.0      0.5        0.00          0.00   \n",
       "4             1          6.5    1.0      0.5        0.00          0.00   \n",
       "\n",
       "   improvement_surcharge  total_amount  congestion_surcharge  airport_fee  \\\n",
       "0                    1.0         49.08                   2.5         0.00   \n",
       "1                    1.0         95.16                   0.0         1.25   \n",
       "2                    1.0         17.25                   2.5         0.00   \n",
       "3                    1.0         15.70                   2.5         0.00   \n",
       "4                    1.0         11.50                   2.5         0.00   \n",
       "\n",
       "         date  \n",
       "0  2023-01-02  \n",
       "1  2023-01-02  \n",
       "2  2023-01-02  \n",
       "3  2023-01-02  \n",
       "4  2023-01-02  "
      ]
     },
     "execution_count": 3,
     "metadata": {},
     "output_type": "execute_result"
    }
   ],
   "source": [
    "def load_data(file_paths, start_date=None):\n",
    "    df = pd.read_parquet(file_paths)\n",
    "    df['date'] = df['tpep_pickup_datetime'].dt.date.astype(str)\n",
    "\n",
    "    if start_date:\n",
    "        df = df[df['date'] > start_date].reset_index(drop=True)\n",
    "\n",
    "    return df\n",
    "\n",
    "\n",
    "rides_df = load_data(DATA_FILE_PATHS, '2023-01-01')\n",
    "print(rides_df.shape)\n",
    "rides_df.head()"
   ]
  },
  {
   "cell_type": "code",
   "execution_count": 4,
   "id": "3ad64d47-6adb-4229-b400-5b4d61f3e8e6",
   "metadata": {},
   "outputs": [
    {
     "name": "stdout",
     "output_type": "stream",
     "text": [
      "(31964, 3)\n"
     ]
    },
    {
     "data": {
      "text/html": [
       "<div>\n",
       "<style scoped>\n",
       "    .dataframe tbody tr th:only-of-type {\n",
       "        vertical-align: middle;\n",
       "    }\n",
       "\n",
       "    .dataframe tbody tr th {\n",
       "        vertical-align: top;\n",
       "    }\n",
       "\n",
       "    .dataframe thead th {\n",
       "        text-align: right;\n",
       "    }\n",
       "</style>\n",
       "<table border=\"1\" class=\"dataframe\">\n",
       "  <thead>\n",
       "    <tr style=\"text-align: right;\">\n",
       "      <th></th>\n",
       "      <th>date</th>\n",
       "      <th>PULocationID</th>\n",
       "      <th>count</th>\n",
       "    </tr>\n",
       "  </thead>\n",
       "  <tbody>\n",
       "    <tr>\n",
       "      <th>0</th>\n",
       "      <td>2023-01-02</td>\n",
       "      <td>70</td>\n",
       "      <td>503.0</td>\n",
       "    </tr>\n",
       "    <tr>\n",
       "      <th>1</th>\n",
       "      <td>2023-01-02</td>\n",
       "      <td>132</td>\n",
       "      <td>6419.0</td>\n",
       "    </tr>\n",
       "    <tr>\n",
       "      <th>2</th>\n",
       "      <td>2023-01-02</td>\n",
       "      <td>142</td>\n",
       "      <td>2028.0</td>\n",
       "    </tr>\n",
       "    <tr>\n",
       "      <th>3</th>\n",
       "      <td>2023-01-02</td>\n",
       "      <td>164</td>\n",
       "      <td>1462.0</td>\n",
       "    </tr>\n",
       "    <tr>\n",
       "      <th>4</th>\n",
       "      <td>2023-01-02</td>\n",
       "      <td>144</td>\n",
       "      <td>567.0</td>\n",
       "    </tr>\n",
       "  </tbody>\n",
       "</table>\n",
       "</div>"
      ],
      "text/plain": [
       "         date  PULocationID   count\n",
       "0  2023-01-02            70   503.0\n",
       "1  2023-01-02           132  6419.0\n",
       "2  2023-01-02           142  2028.0\n",
       "3  2023-01-02           164  1462.0\n",
       "4  2023-01-02           144   567.0"
      ]
     },
     "execution_count": 4,
     "metadata": {},
     "output_type": "execute_result"
    }
   ],
   "source": [
    "def labeling(rides_df: pd.DataFrame):\n",
    "    aggregated_df = rides_df.groupby(\n",
    "        ['date', 'PULocationID']).size().reset_index(name='count')\n",
    "    unique_dates = rides_df['date'].unique()\n",
    "    unique_pu_location_ids = rides_df['PULocationID'].unique()\n",
    "    all_combinations = list(product(unique_dates, unique_pu_location_ids))\n",
    "    combinations_df = pd.DataFrame(all_combinations, columns=[\n",
    "                                   'date', 'PULocationID'])\n",
    "    label_df = aggregated_df.merge(combinations_df, how='right', on=[\n",
    "                                   'date', 'PULocationID']).fillna(0)\n",
    "    return label_df\n",
    "\n",
    "\n",
    "labels_df = labeling(rides_df)\n",
    "print(labels_df.shape)\n",
    "labels_df.head()"
   ]
  },
  {
   "cell_type": "markdown",
   "id": "824de51b-1b2d-4564-9a28-8d95e2adf5c7",
   "metadata": {},
   "source": [
    "### Improved Data Bound Within Range: 2023-04-01 to 2023-04-30\n",
    "\n",
    "For Testing Purpose"
   ]
  },
  {
   "cell_type": "code",
   "execution_count": 5,
   "id": "889cd749-36af-4968-af8d-11656be9fd14",
   "metadata": {},
   "outputs": [],
   "source": [
    "labels_df['date'] = pd.to_datetime(labels_df['date'])"
   ]
  },
  {
   "cell_type": "code",
   "execution_count": 6,
   "id": "2d35ebd9-7e13-46d0-81d4-534975dc5e79",
   "metadata": {},
   "outputs": [],
   "source": [
    "filtered_rides_df = labels_df[(labels_df['date'] >= start_date) & (\n",
    "    labels_df['date'] < end_date)]"
   ]
  },
  {
   "cell_type": "code",
   "execution_count": 7,
   "id": "30187f7a-2fbe-4762-8356-ae6a92807cc3",
   "metadata": {},
   "outputs": [],
   "source": [
    "# Sort the DataFrame based on the 'tpep_pickup_datetime' column in ascending order\n",
    "filtered_rides_df = filtered_rides_df.sort_values(by='date')"
   ]
  },
  {
   "cell_type": "code",
   "execution_count": 8,
   "id": "a2dbea55-b309-4e30-9a83-44118cfdbb57",
   "metadata": {},
   "outputs": [],
   "source": [
    "filtered_rides_df = filtered_rides_df.reset_index(drop=True)"
   ]
  },
  {
   "cell_type": "code",
   "execution_count": 9,
   "id": "7f9756e0-f8d0-4219-8e8e-96f24ae60a0a",
   "metadata": {},
   "outputs": [],
   "source": [
    "filtered_rides_df['pred_count'] = filtered_rides_df['count']"
   ]
  },
  {
   "cell_type": "code",
   "execution_count": 10,
   "id": "c598ae05-ece4-4596-9e7a-09b2a1bba042",
   "metadata": {
    "tags": []
   },
   "outputs": [
    {
     "data": {
      "text/html": [
       "<div>\n",
       "<style scoped>\n",
       "    .dataframe tbody tr th:only-of-type {\n",
       "        vertical-align: middle;\n",
       "    }\n",
       "\n",
       "    .dataframe tbody tr th {\n",
       "        vertical-align: top;\n",
       "    }\n",
       "\n",
       "    .dataframe thead th {\n",
       "        text-align: right;\n",
       "    }\n",
       "</style>\n",
       "<table border=\"1\" class=\"dataframe\">\n",
       "  <thead>\n",
       "    <tr style=\"text-align: right;\">\n",
       "      <th></th>\n",
       "      <th>date</th>\n",
       "      <th>PULocationID</th>\n",
       "      <th>count</th>\n",
       "      <th>pred_count</th>\n",
       "    </tr>\n",
       "  </thead>\n",
       "  <tbody>\n",
       "    <tr>\n",
       "      <th>0</th>\n",
       "      <td>2023-04-01</td>\n",
       "      <td>70</td>\n",
       "      <td>373.0</td>\n",
       "      <td>373.0</td>\n",
       "    </tr>\n",
       "    <tr>\n",
       "      <th>1</th>\n",
       "      <td>2023-04-01</td>\n",
       "      <td>3</td>\n",
       "      <td>0.0</td>\n",
       "      <td>0.0</td>\n",
       "    </tr>\n",
       "    <tr>\n",
       "      <th>2</th>\n",
       "      <td>2023-04-01</td>\n",
       "      <td>147</td>\n",
       "      <td>3.0</td>\n",
       "      <td>3.0</td>\n",
       "    </tr>\n",
       "    <tr>\n",
       "      <th>3</th>\n",
       "      <td>2023-04-01</td>\n",
       "      <td>122</td>\n",
       "      <td>1.0</td>\n",
       "      <td>1.0</td>\n",
       "    </tr>\n",
       "    <tr>\n",
       "      <th>4</th>\n",
       "      <td>2023-04-01</td>\n",
       "      <td>86</td>\n",
       "      <td>2.0</td>\n",
       "      <td>2.0</td>\n",
       "    </tr>\n",
       "    <tr>\n",
       "      <th>5</th>\n",
       "      <td>2023-04-01</td>\n",
       "      <td>5</td>\n",
       "      <td>1.0</td>\n",
       "      <td>1.0</td>\n",
       "    </tr>\n",
       "    <tr>\n",
       "      <th>6</th>\n",
       "      <td>2023-04-01</td>\n",
       "      <td>49</td>\n",
       "      <td>25.0</td>\n",
       "      <td>25.0</td>\n",
       "    </tr>\n",
       "    <tr>\n",
       "      <th>7</th>\n",
       "      <td>2023-04-01</td>\n",
       "      <td>85</td>\n",
       "      <td>1.0</td>\n",
       "      <td>1.0</td>\n",
       "    </tr>\n",
       "    <tr>\n",
       "      <th>8</th>\n",
       "      <td>2023-04-01</td>\n",
       "      <td>255</td>\n",
       "      <td>158.0</td>\n",
       "      <td>158.0</td>\n",
       "    </tr>\n",
       "    <tr>\n",
       "      <th>9</th>\n",
       "      <td>2023-04-01</td>\n",
       "      <td>117</td>\n",
       "      <td>2.0</td>\n",
       "      <td>2.0</td>\n",
       "    </tr>\n",
       "  </tbody>\n",
       "</table>\n",
       "</div>"
      ],
      "text/plain": [
       "        date  PULocationID  count  pred_count\n",
       "0 2023-04-01            70  373.0       373.0\n",
       "1 2023-04-01             3    0.0         0.0\n",
       "2 2023-04-01           147    3.0         3.0\n",
       "3 2023-04-01           122    1.0         1.0\n",
       "4 2023-04-01            86    2.0         2.0\n",
       "5 2023-04-01             5    1.0         1.0\n",
       "6 2023-04-01            49   25.0        25.0\n",
       "7 2023-04-01            85    1.0         1.0\n",
       "8 2023-04-01           255  158.0       158.0\n",
       "9 2023-04-01           117    2.0         2.0"
      ]
     },
     "execution_count": 10,
     "metadata": {},
     "output_type": "execute_result"
    }
   ],
   "source": [
    "filtered_rides_df.head(10)"
   ]
  },
  {
   "cell_type": "markdown",
   "id": "fa5c2f68-a4a0-4bbd-bc6b-0d4b8bceb045",
   "metadata": {},
   "source": [
    "# Report by MAPE Metric"
   ]
  },
  {
   "cell_type": "markdown",
   "id": "2051baf9-ccac-4b08-a837-18c44974419b",
   "metadata": {},
   "source": [
    "### Define MAPE Metric Function"
   ]
  },
  {
   "cell_type": "code",
   "execution_count": 11,
   "id": "a27ac836-595a-46b1-89f2-5d2aeda2d0ea",
   "metadata": {},
   "outputs": [
    {
     "name": "stdout",
     "output_type": "stream",
     "text": [
      "MAPE: 0.00%\n"
     ]
    }
   ],
   "source": [
    "# Define the MAPE calculation function\n",
    "def calculate_mape(actual, predicted):\n",
    "    if np.all(actual == 0):\n",
    "        return 0.0\n",
    "    return (abs((actual - predicted) / actual)).mean() * 100\n",
    "\n",
    "\n",
    "# Calculate MAPE\n",
    "mape = calculate_mape(\n",
    "    filtered_rides_df['count'], filtered_rides_df['pred_count'])\n",
    "print(\"MAPE: {:.2f}%\".format(mape))"
   ]
  },
  {
   "cell_type": "markdown",
   "id": "bc65deef-b7d6-4def-9d1e-54ae28e2a0d2",
   "metadata": {},
   "source": [
    "### Calculate MAPE per LocationID"
   ]
  },
  {
   "cell_type": "code",
   "execution_count": 12,
   "id": "2c288f5a-d5df-43cd-ad30-81c7b935cb2f",
   "metadata": {},
   "outputs": [],
   "source": [
    "def calculate_mape_locationID(df, PULocationID):\n",
    "    selected_df = df[df['PULocationID'] == PULocationID]\n",
    "    actual = selected_df['count']\n",
    "    predicted = selected_df['pred_count']\n",
    "    mape = calculate_mape(actual, predicted)\n",
    "    return mape"
   ]
  },
  {
   "cell_type": "code",
   "execution_count": 13,
   "id": "db6b4a4a-f60b-4ee3-9b5c-9350f9c94946",
   "metadata": {},
   "outputs": [
    {
     "name": "stdout",
     "output_type": "stream",
     "text": [
      "MAPE for LocationID 263: 0.00%\n"
     ]
    }
   ],
   "source": [
    "locationID_mape = 263\n",
    "calculate_mape_locationID(filtered_rides_df, locationID_mape)\n",
    "print(\"MAPE for LocationID {}: {:.2f}%\".format(locationID_mape, mape))"
   ]
  },
  {
   "cell_type": "markdown",
   "id": "7abe3a7f-c181-405e-b569-dee7e1c082ab",
   "metadata": {},
   "source": [
    "### Calculate Average MAPE per all LocationIDs"
   ]
  },
  {
   "cell_type": "code",
   "execution_count": 14,
   "id": "49c202e5-11ea-4705-935e-80fc1af4c266",
   "metadata": {},
   "outputs": [
    {
     "name": "stdout",
     "output_type": "stream",
     "text": [
      "Average MAPE per LocationIDs: 0.00%\n"
     ]
    }
   ],
   "source": [
    "PULocationIDs = filtered_rides_df['PULocationID'].unique()\n",
    "PULocationIDs.sort()\n",
    "for locationID in PULocationIDs:\n",
    "    mape_all = []\n",
    "    mape_all.append(calculate_mape_locationID(filtered_rides_df, locationID))\n",
    "    AvgMAPE = sum(mape_all)/len(PULocationIDs)\n",
    "\n",
    "print(\"Average MAPE per LocationIDs: {:.2f}%\".format(mape))"
   ]
  },
  {
   "cell_type": "markdown",
   "id": "c41527dd-9ac5-4a10-bcb3-d237d9e5cfea",
   "metadata": {},
   "source": [
    "## Visualization\n",
    "\n",
    "Zones (Borough): **EWR, Queens, Bronx, Manhattan, Staten Island, Brooklyn**\n",
    "\n",
    "Date Range: **2023-04-01_2023-04-30**"
   ]
  },
  {
   "cell_type": "code",
   "execution_count": 15,
   "id": "23500e0c-17a9-4511-84a7-8fbcfeb11f3a",
   "metadata": {},
   "outputs": [],
   "source": [
    "# This Function shows demand on map based on selected date on month\n",
    "# Becuase of to many locationIDs, we limited our visualization to each zone(Borough)\n",
    "def visualize_mape_zone_date(zone, date, df):\n",
    "    shape = gpd.read_file(\n",
    "        '/workspace/rahnemacollege/Project/Git/demand-prediction/map_data/taxi_zones/taxi_zones.shp')\n",
    "    counts_PU = df.rename(columns={'PULocationID': 'LocationID'})\n",
    "    counts_PU = counts_PU[counts_PU['date'] == date]\n",
    "    merged_gdf = shape.merge(counts_PU, on='LocationID', how='left')\n",
    "    merged_gdf = merged_gdf.dropna()\n",
    "    merged_gdf['MAPE'] = np.where(merged_gdf['count'] != 0, (abs(\n",
    "        (merged_gdf['count'] - merged_gdf['pred_count']) / merged_gdf['count'])) * 100, 0)\n",
    "    merged_gdf_selected = merged_gdf[merged_gdf['borough'] == zone]\n",
    "\n",
    "    # Create a single plot\n",
    "    fig, ax = plt.subplots(figsize=(10, 7.5))\n",
    "\n",
    "    # Plot the map with 'count' column\n",
    "    # Reverse the colormap by setting vmin and vmax to reverse the values\n",
    "    merged_gdf_selected.plot(column='MAPE', cmap='Oranges_r', legend=True, ax=ax,\n",
    "                             vmin=merged_gdf_selected['MAPE'].max(), vmax=merged_gdf_selected['MAPE'].min())\n",
    "    ax.set_title('Prediction based on MAPE')\n",
    "    ax.get_xaxis().set_visible(False)\n",
    "    ax.get_yaxis().set_visible(False)\n",
    "\n",
    "    # Annotate 'MAPE' values on the map\n",
    "    for idx, row in merged_gdf_selected.iterrows():\n",
    "        location_id = row['MAPE']\n",
    "        x, y = row.geometry.centroid.x, row.geometry.centroid.y\n",
    "        ax.text(x, y, str(location_id), fontsize=8,\n",
    "                ha='center', va='center', color='black')\n",
    "\n",
    "    plt.show()"
   ]
  },
  {
   "cell_type": "code",
   "execution_count": 16,
   "id": "e45b931a-6e87-47b0-98c5-61ba3311210f",
   "metadata": {
    "tags": []
   },
   "outputs": [
    {
     "data": {
      "image/png": "[encoded data removed]",
      "text/plain": [
       "<Figure size 1000x750 with 2 Axes>"
      ]
     },
     "metadata": {},
     "output_type": "display_data"
    }
   ],
   "source": [
    "visualize_mape_zone_date('Queens', '2023-04-01', filtered_rides_df)"
   ]
  }
 ],
 "metadata": {
  "kernelspec": {
   "display_name": "Python 3 (ipykernel)",
   "language": "python",
   "name": "python3"
  },
  "language_info": {
   "codemirror_mode": {
    "name": "ipython",
    "version": 3
   },
   "file_extension": ".py",
   "mimetype": "text/x-python",
   "name": "python",
   "nbconvert_exporter": "python",
   "pygments_lexer": "ipython3",
   "version": "3.8.10"
  }
 },
 "nbformat": 4,
 "nbformat_minor": 5
}
